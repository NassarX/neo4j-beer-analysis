{
 "cells": [
  {
   "cell_type": "markdown",
   "metadata": {},
   "source": [
    "# Big Data Modeling and Management Assigment - Homework 1"
   ]
  },
  {
   "cell_type": "markdown",
   "metadata": {},
   "source": [
    "## 🍺 The Beer project  🍺 \n",
    "\n",
    "As it was shown in classes, graph databases are a natural way of navegating distinct types of data. For this first project we will be taking a graph database to analyse beer and breweries!   \n",
    "\n",
    "_For reference the dataset used for this project has been extracted from [kaggle](https://www.kaggle.com/ehallmar/beers-breweries-and-beer-reviews), released by Evan Hallmark. Even though the author does not present metada on the origin of the data it is probably a collection of open data from places like [beeradvocate](https://www.beeradvocate.com/)_.\n",
    "\n",
    "### Problem description\n",
    "\n",
    "Explore the database via python neo4j connector and/or the graphical tool in the NEO4J webpage. Answer the questions. Submit the results by following the instructions\n",
    "\n",
    "\n",
    "### Questions\n",
    "\n",
    "1. How many different countries exist in the database?\n",
    "1. Most reviews:  \n",
    "    1. Which `Beer` has the most reviews?  \n",
    "    1. Which `Brewery` has the most reviews for its beers? [Hint: 5-node path]\n",
    "    1. Which `Country` has the most reviews for its beers? [Hint: 5-node path]\n",
    "1. Find the user/users that have the most shared reviews (reviews of the same beers) with the user CTJman?\n",
    "1. Which Portuguese brewery has the most beers?\n",
    "1. From those beers (the ones returned from the previous question), which has the most reviews?\n",
    "1. On average how many different beer styles does each brewery produce?\n",
    "1. Which brewery produces the strongest beers according to ABV? [Hint: database has NaN values]\n",
    "1. If I typically enjoy a beer due to its aroma and appearance, which beer style should I try? (Justify your answer well!) [Hint: database has NaN values]\n",
    "1. Using Graph Algorithms answer **one** of the following questions: [Hint: make sure to clear the graph before using it again]\n",
    "    1. Which two countries are most similiar when it comes to their **top 10** most produced Beer styles?\n",
    "    2. Which beer is the most influential when considering beers are conected by users who review them? [Please use limit of 1000 on beer-review-user path]]\n",
    "    3. Users are connected together by their reviews to beers, taking into consideration the \"overall\" score they review as a weight, how many communities are formed from these relationships? How many users has the biggest community? [Please use limit of 1000 on beer-review-user path]]\n",
    "1. Using Graph Algorithms answer **one** of the following questions:\n",
    "    1. Which beer has the most similar reviews as the beer `Super Bock Stout`? [Hint:inspect two subsets: with and without the beer in question]\n",
    "    2. Which user is the most influential when it comes to reviews made?\n",
    "1. If you had to pick 3 beers to recommend using only this database, which would you pick and why? (Justify your answer well!) [Hint: database has NaN values]\n",
    "\n",
    "\n",
    "Questions 8 to 10 are somewhat open, which means we'll also be evaluating the reasoning behind your answer. So there aren't necessarily bad results there are only wrong criteria, explanations or execution. \n",
    " \n",
    "### Groups  \n",
    "\n",
    "Groups should have 4 to 5 people.\n",
    "You should register your group on **moodle**.\n",
    "\n",
    "### Submission      \n",
    "\n",
    "The code used to produce the results and respective explations should be uploaded to moodle. They should have a clear reference to the group, either on the file name or on the document itself. Preferably one Jupyter notebook per group.\n",
    "\n",
    "Delivery date: Until the **midnight of March 13**\n",
    "\n",
    "### Evaluation   \n",
    "\n",
    "This will be 20% of the final grade.   \n",
    "Each solution will be evaluated on 2 components: correctness of results and simplicity of the solution.  \n",
    "All code will go through plagiarism automated checks. Groups with the same code will undergo investigation."
   ]
  },
  {
   "cell_type": "code",
   "execution_count": 1,
   "metadata": {
    "tags": []
   },
   "outputs": [],
   "source": [
    "from neo4j import GraphDatabase\n",
    "from pprint import pprint"
   ]
  },
  {
   "cell_type": "code",
   "execution_count": 2,
   "metadata": {
    "tags": []
   },
   "outputs": [],
   "source": [
    "NEO4J_URI=\"neo4j://localhost:7687\"\n",
    "NEO4J_USERNAME=\"neo4j\"\n",
    "NEO4J_PASSWORD=\"test\""
   ]
  },
  {
   "cell_type": "code",
   "execution_count": 3,
   "metadata": {
    "tags": []
   },
   "outputs": [],
   "source": [
    "driver = GraphDatabase.driver(NEO4J_URI, auth=(NEO4J_USERNAME, NEO4J_PASSWORD))"
   ]
  },
  {
   "cell_type": "markdown",
   "metadata": {},
   "source": [
    "### All The Functions you'll need to run queries in Neo4J"
   ]
  },
  {
   "cell_type": "code",
   "execution_count": 4,
   "metadata": {
    "tags": []
   },
   "outputs": [],
   "source": [
    "def execute_read(driver, query):    \n",
    "    with driver.session(database=\"neo4j\") as session:\n",
    "        result = session.execute_read(lambda tx, query: list(tx.run(query)), query)\n",
    "    return result"
   ]
  },
  {
   "cell_type": "markdown",
   "metadata": {},
   "source": [
    "### Understanding the Database"
   ]
  },
  {
   "cell_type": "code",
   "execution_count": 5,
   "metadata": {
    "tags": []
   },
   "outputs": [],
   "source": [
    "query = \"\"\"\n",
    "        call db.labels();\n",
    "    \"\"\"\n",
    "\n",
    "result = execute_read(driver, query)"
   ]
  },
  {
   "cell_type": "code",
   "execution_count": 6,
   "metadata": {},
   "outputs": [
    {
     "name": "stdout",
     "output_type": "stream",
     "text": [
      "[<Record relationshipType='REVIEWED'>,\n",
      " <Record relationshipType='BREWED'>,\n",
      " <Record relationshipType='IN'>,\n",
      " <Record relationshipType='HAS_STYLE'>,\n",
      " <Record relationshipType='POSTED'>]\n"
     ]
    }
   ],
   "source": [
    "relationshipTypesQuery = \"\"\"\n",
    "        CALL db.relationshipTypes();\n",
    "    \"\"\"\n",
    "relationshipTypes = execute_read(driver, relationshipTypesQuery)\n",
    "\n",
    "pprint(relationshipTypes)"
   ]
  },
  {
   "cell_type": "markdown",
   "metadata": {},
   "source": [
    "# Submission\n",
    "\n",
    "GROUP NUMBER:\n",
    "\n",
    "**Group27**\n",
    "\n",
    "GROUP MEMBERS:\n",
    "\n",
    "| STUDENT NUMBER | STUDENT NAME |\n",
    "|----------------|--------------|\n",
    "| Mahmoud Ahmed  | 20221397     |"
   ]
  },
  {
   "cell_type": "markdown",
   "metadata": {},
   "source": [
    "#### 1. How many different countries exist in the database?"
   ]
  },
  {
   "cell_type": "code",
   "execution_count": 7,
   "metadata": {},
   "outputs": [
    {
     "name": "stdout",
     "output_type": "stream",
     "text": [
      "There are 200 different countries in the database.\n"
     ]
    }
   ],
   "source": [
    "uniqueCountriesQuery = \"\"\"\n",
    "    MATCH (c:COUNTRIES)\n",
    "    RETURN COUNT(DISTINCT c.name) as CountryCount\n",
    "\"\"\"\n",
    "\n",
    "countriesCount = execute_read(driver, uniqueCountriesQuery)\n",
    "print(f\"There are {countriesCount[0]['CountryCount']} different countries in the database.\")"
   ]
  },
  {
   "cell_type": "markdown",
   "metadata": {},
   "source": [
    "#### 2. Most reviews:  \n",
    "    A) Which `Beer` has the most reviews?\n",
    "    B) Which `Brewery` has the most reviews for its beers?\n",
    "    C) Which `Country` has the most reviews for its beers?"
   ]
  },
  {
   "cell_type": "markdown",
   "source": [],
   "metadata": {
    "collapsed": false
   }
  },
  {
   "cell_type": "markdown",
   "source": [
    "**A) Which `Beer` has the most reviews?**\n",
    "\n",
    "__Explanation__\n",
    "\n",
    "As simple as matching all our BEERS nodes with `REVIEWED` relationship, then grouping the results by `beer.name` and counts the number of REVIEWED relationships for each beer.\n",
    "then ordering the results in desc order reviews count and returning the most reviewed beer. done ;)\n",
    "\n",
    "__`WITH clause`__ used here  to aggregate the reviews for each beer before sorting and returning the top result.\n",
    "__` WITH clause`__ is useful when we want to chain multiple queries together while preserving the results of the first query."
   ],
   "metadata": {
    "collapsed": false
   }
  },
  {
   "cell_type": "code",
   "execution_count": 8,
   "metadata": {},
   "outputs": [
    {
     "name": "stdout",
     "output_type": "stream",
     "text": [
      "The most reviewed beer is IPA with 31387 reviews.\n"
     ]
    }
   ],
   "source": [
    "mostReviewedBeerQuery = \"\"\"\n",
    "MATCH (b:BEERS)-[r:REVIEWED]-()\n",
    "WITH b.name as beerName, COUNT(r) AS reviewsCount\n",
    "ORDER BY reviewsCount DESC\n",
    "LIMIT 1\n",
    "RETURN beerName, reviewsCount\n",
    "\"\"\"\n",
    "mostReviewedBeer = execute_read(driver, mostReviewedBeerQuery)\n",
    "print(f\"The most reviewed beer is {mostReviewedBeer[0]['beerName']} with {mostReviewedBeer[0]['reviewsCount']} reviews.\")"
   ]
  },
  {
   "cell_type": "markdown",
   "source": [
    "**B) Which `Brewery` has the most reviews for its beers?**\n",
    "\n",
    "__Explanation__\n",
    "\n",
    "As simple as matching breweries that have `BREWED` beers that have been `REVIEWED` then again using `WITH clause` to group the results by brewery and count reviews for each brewery."
   ],
   "metadata": {
    "collapsed": false
   }
  },
  {
   "cell_type": "code",
   "execution_count": 9,
   "metadata": {},
   "outputs": [
    {
     "name": "stdout",
     "output_type": "stream",
     "text": [
      "The most reviewed Brewery is Sierra Nevada Brewing Co. with 175161 reviews on its beers.\n"
     ]
    }
   ],
   "source": [
    "mostReviewedBreweryQuery = \"\"\"\n",
    "MATCH (b:BREWERIES)-[:BREWED]->(beer:BEERS)-[:REVIEWED]-()\n",
    "WITH b.name as breweryName, COUNT(*) AS reviewsCount\n",
    "ORDER BY reviewsCount DESC\n",
    "LIMIT 1\n",
    "RETURN breweryName, reviewsCount\n",
    "\"\"\"\n",
    "\n",
    "mostReviewedBrewery = execute_read(driver, mostReviewedBreweryQuery)\n",
    "print(f\"The most reviewed Brewery is {mostReviewedBrewery[0]['breweryName']} with {mostReviewedBrewery[0]['reviewsCount']} reviews on its beers.\")"
   ]
  },
  {
   "cell_type": "markdown",
   "source": [
    "C) Which `Country` has the most reviews for its beers?\n",
    "\n",
    "__Explanation__\n",
    "\n",
    "As simple as matching `COUNTRIES` having at least one `CITIES` with at least one `BREWERY`, which `BREWED` at least one `BEER` that has been `REVIEWED`.  then again using `WITH clause` to group the results by brewery and count reviews for each country and select the top 1 with LIMIT."
   ],
   "metadata": {
    "collapsed": false
   }
  },
  {
   "cell_type": "code",
   "execution_count": 10,
   "metadata": {},
   "outputs": [
    {
     "name": "stdout",
     "output_type": "stream",
     "text": [
      "The most reviewed country is US with 7675804 reviews on its beers.\n"
     ]
    }
   ],
   "source": [
    "mostReviewedCountryQuery = \"\"\"\n",
    "MATCH (country:COUNTRIES)<-[:IN]-(city:CITIES)<-[:IN]-(brewery:BREWERIES)-[:BREWED]->(beer:BEERS)-[:REVIEWED]-(r)\n",
    "WITH country.name as countryName, count(r) as reviewsCount\n",
    "ORDER BY reviewsCount DESC\n",
    "LIMIT 1\n",
    "RETURN countryName, reviewsCount\n",
    "\"\"\"\n",
    "\n",
    "mostReviewedCountry = execute_read(driver, mostReviewedCountryQuery)\n",
    "print(f\"The most reviewed country is {mostReviewedCountry[0]['countryName']} with {mostReviewedCountry[0]['reviewsCount']} reviews on its beers.\")"
   ]
  },
  {
   "cell_type": "markdown",
   "metadata": {},
   "source": [
    "#### 3. Find the user/users that have the most shared reviews (reviews of the same beers) with the user CTJman?"
   ]
  },
  {
   "cell_type": "code",
   "execution_count": 11,
   "metadata": {},
   "outputs": [
    {
     "name": "stdout",
     "output_type": "stream",
     "text": [
      "The top users who have shared reviews with user CTHman are:\n",
      "acurtis - 1428\n",
      "Texasfan549 - 1257\n",
      "kjkinsey - 1205\n",
      "oline73 - 1191\n",
      "chippo33 - 1161\n",
      "mendvicdog - 1156\n",
      "spycow - 1142\n",
      "djrn2 - 1122\n",
      "duceswild - 1081\n",
      "SocalKicks - 1077\n"
     ]
    }
   ],
   "source": [
    "mostSharedReviewedUsersQuery = \"\"\"\n",
    "MATCH (u1:USER {name: 'CTJman'})<-[:POSTED]-(review:REVIEWS)<-[:REVIEWED]-(beer:BEERS)-[:REVIEWED]-(review2:REVIEWS)-[:POSTED]->(u2:USER) WHERE u1 <> u2\n",
    "WITH u2.name AS userName, count(DISTINCT beer) AS sharedReviews\n",
    "ORDER BY sharedReviews DESC\n",
    "LIMIT 10\n",
    "RETURN userName, sharedReviews\n",
    "\"\"\"\n",
    "\n",
    "mostSharedReviewedUsers = execute_read(driver, mostSharedReviewedUsersQuery)\n",
    "\n",
    "print(\"The top users who have shared reviews with user CTHman are:\")\n",
    "\n",
    "for user in mostSharedReviewedUsers:\n",
    "    print(user['userName'], \"-\", user['sharedReviews'])"
   ]
  },
  {
   "cell_type": "markdown",
   "metadata": {},
   "source": [
    "#### 4. Which Portuguese brewery has the most beers?\n"
   ]
  },
  {
   "cell_type": "code",
   "execution_count": 12,
   "metadata": {},
   "outputs": [
    {
     "name": "stdout",
     "output_type": "stream",
     "text": [
      "The most portuguese beer producer brewery is Dois Corvos Cervejeira with 40 beers.\n"
     ]
    }
   ],
   "source": [
    "mostPortugueseBeerProducerBreweryQuery = \"\"\"\n",
    "MATCH (country:COUNTRIES)<-[:IN]-(city:CITIES)<-[:IN]-(brewery:BREWERIES)-[:BREWED]->(beer:BEERS)\n",
    "WHERE country.name = 'PT'\n",
    "WITH brewery, count(beer) as brewedBeers\n",
    "order by brewedBeers DESC\n",
    "LIMIT 1\n",
    "RETURN brewery.name as breweryName, brewedBeers\n",
    "\"\"\"\n",
    "mostPortugueseBeerProducerBrewery = execute_read(driver, mostPortugueseBeerProducerBreweryQuery)\n",
    "print(f\"The most portuguese beer producer brewery is {mostPortugueseBeerProducerBrewery[0]['breweryName']} with {mostPortugueseBeerProducerBrewery[0]['brewedBeers']} beers.\")"
   ]
  },
  {
   "cell_type": "markdown",
   "metadata": {},
   "source": [
    "#### 5. From those beers (the ones produced in the brewery from the previous question), which has the most reviews?\n"
   ]
  },
  {
   "cell_type": "code",
   "execution_count": 13,
   "metadata": {},
   "outputs": [
    {
     "name": "stdout",
     "output_type": "stream",
     "text": [
      "The most reviewed beer in Portugal is:\n",
      "Brewery: Unicer União Cervejeira S.A.\n",
      "Beer: Super Bock\n",
      "Number of reviews: 391\n",
      "\n",
      "Brewery: Sociedade Central de Cervejas\n",
      "Beer: Sagres Cerveja\n",
      "Number of reviews: 279\n",
      "\n",
      "Brewery: Unicer União Cervejeira S.A.\n",
      "Beer: Super Bock Stout\n",
      "Number of reviews: 82\n",
      "\n",
      "Brewery: Sociedade Central de Cervejas\n",
      "Beer: Sagres Cerveja Preta (Dark)\n",
      "Number of reviews: 77\n",
      "\n",
      "Brewery: Sociedade Central de Cervejas\n",
      "Beer: Bohemia\n",
      "Number of reviews: 67\n",
      "\n",
      "Brewery: Unicer União Cervejeira S.A.\n",
      "Beer: Super Bock Abadia\n",
      "Number of reviews: 37\n",
      "\n",
      "Brewery: Sociedade Central de Cervejas\n",
      "Beer: Sagres Mini\n",
      "Number of reviews: 21\n",
      "\n",
      "Brewery: Cereuro - Cervejeira Europeia (Tagus)\n",
      "Beer: Tagus\n",
      "Number of reviews: 20\n",
      "\n",
      "Brewery: Unicer União Cervejeira S.A.\n",
      "Beer: Cristal\n",
      "Number of reviews: 19\n",
      "\n",
      "Brewery: Os Três Cervejeiros\n",
      "Beer: Sovina IPA\n",
      "Number of reviews: 16\n",
      "\n"
     ]
    }
   ],
   "source": [
    "mostSharedReviewedUsersQuery = \"\"\"\n",
    "MATCH (country:COUNTRIES)<-[:IN]-(city:CITIES)<-[:IN]-(brewery:BREWERIES)-[:BREWED]->(beer:BEERS)-[:REVIEWED]->(review:REVIEWS)\n",
    "WHERE country.name = 'PT'\n",
    "WITH brewery, beer, count(review) AS numReviews\n",
    "ORDER BY numReviews DESC\n",
    "LIMIT 10\n",
    "RETURN brewery.name AS breweryName, beer.name AS beerName, numReviews\n",
    "\"\"\"\n",
    "\n",
    "mostSharedReviewedUsers = execute_read(driver, mostSharedReviewedUsersQuery)\n",
    "print(\"The most reviewed beer in Portugal is:\")\n",
    "for row in mostSharedReviewedUsers:\n",
    "    print(f\"Brewery: {row['breweryName']}\")\n",
    "    print(f\"Beer: {row['beerName']}\")\n",
    "    print(f\"Number of reviews: {row['numReviews']}\")\n",
    "    print()"
   ]
  },
  {
   "cell_type": "markdown",
   "metadata": {},
   "source": [
    "#### 6. On average how many different beer styles does each brewery produce?"
   ]
  },
  {
   "cell_type": "code",
   "execution_count": 14,
   "metadata": {},
   "outputs": [
    {
     "name": "stdout",
     "output_type": "stream",
     "text": [
      "The average beer styles per Brewery is `10.6`\n"
     ]
    }
   ],
   "source": [
    "averageBeerStylePerBreweryQuery = \"\"\"\n",
    "MATCH (brewery:BREWERIES)-[:BREWED]->(beer:BEERS)-[:HAS_STYLE]->(style:STYLE)\n",
    "WITH brewery, COUNT(DISTINCT style) AS numStyles, COUNT(DISTINCT beer) AS numBeers\n",
    "RETURN AVG(numStyles) AS avgStylesPerBrewery\n",
    "\"\"\"\n",
    "\n",
    "averageBeerStylePerBrewery = execute_read(driver, averageBeerStylePerBreweryQuery)\n",
    "print(f\"The average beer styles per Brewery is `{round(averageBeerStylePerBrewery[0]['avgStylesPerBrewery'], 2)}`\")"
   ]
  },
  {
   "cell_type": "markdown",
   "metadata": {},
   "source": [
    "#### 7. Which brewery produces the strongest beers according to ABV?"
   ]
  },
  {
   "cell_type": "code",
   "execution_count": 15,
   "metadata": {},
   "outputs": [
    {
     "name": "stdout",
     "output_type": "stream",
     "text": [
      "The strongest beer with highest abv is brewed in `Avondale Brewing Co.`\n"
     ]
    }
   ],
   "source": [
    "strongestAbvBeerBreweryQuery = \"\"\"\n",
    "MATCH (brewery:BREWERIES)-[:BREWED]->(beer:BEERS)\n",
    "WHERE beer.abv IS NOT NULL  AND toFloat(beer.abv) >= 0.0\n",
    "WITH brewery, max(toFloat(beer.abv)) as maxABV\n",
    "RETURN brewery.name as breweryName, maxABV\n",
    "ORDER BY maxABV DESC\n",
    "LIMIT 1\n",
    "\"\"\"\n",
    "\n",
    "strongestAbvBeerBrewery = execute_read(driver, strongestAbvBeerBreweryQuery)\n",
    "print(f\"The strongest beer with highest abv is brewed in `{strongestAbvBeerBrewery[0]['breweryName']}`\")"
   ]
  },
  {
   "cell_type": "markdown",
   "metadata": {},
   "source": [
    "#### 8. If I typically enjoy a beer due to its aroma and appearance, which beer style should I try?"
   ]
  },
  {
   "cell_type": "code",
   "execution_count": 16,
   "metadata": {},
   "outputs": [
    {
     "name": "stdout",
     "output_type": "stream",
     "text": [
      "I would recommend you can try `New England IPA` beer as it has highest score  `8.8` on aroma & appearance scores\n"
     ]
    }
   ],
   "source": [
    "bestAromaAppearanceBeerQuery = \"\"\"\n",
    "MATCH (r:REVIEWS)<-[:REVIEWED]-(b:BEERS)-[:HAS_STYLE]->(s:STYLE)\n",
    "WHERE r.smell IS NOT NULL AND toFloat(r.smell) >= 0.0\n",
    "  AND r.look IS NOT NULL AND toFloat(r.look) >= 0.0\n",
    "WITH s.name AS style, AVG(toFloat(r.smell) + toFloat(r.look)) AS aromaAppearanceScore\n",
    "ORDER BY aromaAppearanceScore DESC\n",
    "LIMIT 1\n",
    "RETURN style, aromaAppearanceScore\n",
    "\"\"\"\n",
    "\n",
    "bestAromaAppearanceBeer = execute_read(driver, bestAromaAppearanceBeerQuery)\n",
    "print(f\"I would recommend you can try `{bestAromaAppearanceBeer[0]['style']}` beer as it has highest score  `{round(bestAromaAppearanceBeer[0]['aromaAppearanceScore'], 2)}` on aroma & appearance scores\")"
   ]
  },
  {
   "cell_type": "markdown",
   "metadata": {},
   "source": [
    "#### 9. Using Graph Algorithms answer **one** of the following questions:\n",
    "    1. Which two countries are most similiar when it comes to their **top 10** most produced Beer styles?\n",
    "    2. Which beer is the most influential when considering beers are conected by users who review them?\n",
    "    3. Users are connected together by their reviews to beers, taking into consideration the \"overall\" score they review as a weight, how many communities are formed from these relationships? How many users has the biggest community?"
   ]
  },
  {
   "cell_type": "code",
   "execution_count": 45,
   "outputs": [
    {
     "name": "stdout",
     "output_type": "stream",
     "text": [
      "[<Record graphName='Countries_Style_Similarity'>]\n"
     ]
    }
   ],
   "source": [
    "# Step 0 - Clear graph, graph names need to be unique\n",
    "try:\n",
    "    top10SimilarCountriesClearQuery = \"\"\"\n",
    "            CALL gds.graph.drop('Countries_Style_Similarity') YIELD graphName;\n",
    "        \"\"\"\n",
    "    top10SimilarCountriesClear = execute_read(driver, top10SimilarCountriesClearQuery)\n",
    "    pprint(top10SimilarCountriesClear)\n",
    "except Exception as e:\n",
    "    pprint(e)"
   ],
   "metadata": {
    "collapsed": false
   }
  },
  {
   "cell_type": "code",
   "execution_count": 44,
   "outputs": [
    {
     "name": "stdout",
     "output_type": "stream",
     "text": [
      "[<Record nodeQuery='MATCH (c:COUNTRIES) RETURN id(c) AS id UNION ALL MATCH (s:STYLE) return id(s) as id' relationshipQuery='MATCH (c:COUNTRIES)<-[]-(ci:CITIES)<-[]-(br:BREWERIES)-[]->(be:BEERS)-[]->(s:STYLE)\\n             WITH c as country, s as style, count(*) as freq \\n             ORDER BY freq DESC \\n             WITH country, collect(style)[..10] as top_10 \\n             WHERE size(top_10) > 9 and  country.name <>\"nan\"  UNWIND top_10 as country_top_10 \\n             RETURN id(country) as source, id(country_top_10) as target' graphName='Countries_Style_Similarity' nodeCount=313 relationshipCount=1100 projectMillis=1874>]\n"
     ]
    }
   ],
   "source": [
    "# Step 1 - Create an appropriate graph\n",
    "try:\n",
    "    top10SimilarCountriesQuery = \"\"\"\n",
    "         CALL gds.graph.project.cypher(\n",
    "            'Countries_Style_Similarity',\n",
    "            'MATCH (country:COUNTRIES) RETURN id(country) AS id UNION ALL MATCH (style:STYLE) return id(style) as id',\n",
    "\n",
    "            'MATCH (country:COUNTRIES)<-[]-(city:CITIES)<-[]-(brewery:BREWERIES)-[]->(beer:BEERS)-[]->(style:STYLE)\n",
    "             WITH country, style, count(*) as similarStylesCount\n",
    "             ORDER BY similarStylesCount DESC\n",
    "             WITH country, collect(style)[..10] as top10\n",
    "             WHERE size(top10) > 9 AND country.name <> \"nan\"\n",
    "             UNWIND top10 as top10Countries\n",
    "             RETURN id(country) as source, id(top10Countries) as target'\n",
    "        )\n",
    "        \"\"\"\n",
    "\n",
    "    top10SimilarCountries = execute_read(driver, query)\n",
    "    pprint(top10SimilarCountries)\n",
    "except Exception as e:\n",
    "    pprint(e)"
   ],
   "metadata": {
    "collapsed": false
   }
  },
  {
   "cell_type": "code",
   "execution_count": 48,
   "outputs": [
    {
     "name": "stdout",
     "output_type": "stream",
     "text": [
      "[<Record Country1='KY' Country2='CU' similarity=1.0>,\n",
      " <Record Country1='SG' Country2='CU' similarity=1.0>,\n",
      " <Record Country1='NZ' Country2='AU' similarity=1.0>,\n",
      " <Record Country1='KY' Country2='ET' similarity=1.0>,\n",
      " <Record Country1='KY' Country2='SG' similarity=1.0>,\n",
      " <Record Country1='SG' Country2='ET' similarity=1.0>,\n",
      " <Record Country1='AU' Country2='NZ' similarity=1.0>,\n",
      " <Record Country1='CA' Country2='PH' similarity=1.0>,\n",
      " <Record Country1='UA' Country2='LT' similarity=1.0>,\n",
      " <Record Country1='SG' Country2='KY' similarity=1.0>]\n"
     ]
    }
   ],
   "source": [
    "# Step 2 - Run the algorithm\n",
    "\n",
    "try:\n",
    "    query = \"\"\"\n",
    "        CALL gds.nodeSimilarity.stream('Countries_Style_Similarity')\n",
    "            YIELD node1, node2, similarity\n",
    "            with gds.util.asNode(node1).name AS Country1, gds.util.asNode(node2).name AS Country2, similarity\n",
    "            RETURN Country1, Country2, similarity\n",
    "            ORDER BY similarity DESCENDING\n",
    "            limit 10\n",
    "        \"\"\"\n",
    "\n",
    "    result = execute_read(driver, query)\n",
    "\n",
    "    pprint(result)\n",
    "except Exception as e:\n",
    "    pprint(e)"
   ],
   "metadata": {
    "collapsed": false
   }
  },
  {
   "cell_type": "markdown",
   "metadata": {},
   "source": [
    "#### 10. Using Graph Algorithms answer **one** of the following questions:\n",
    "    1. Which beer has the most similar reviews as the beer `Super Bock Stout`?\n",
    "    2. Which user is the most influential when it comes to reviews made?"
   ]
  },
  {
   "cell_type": "code",
   "execution_count": null,
   "metadata": {},
   "outputs": [],
   "source": []
  },
  {
   "cell_type": "markdown",
   "metadata": {},
   "source": [
    "#### 11. If you had to pick 3 beers to recommend using only this database, which would you pick and why?"
   ]
  },
  {
   "cell_type": "code",
   "execution_count": null,
   "metadata": {},
   "outputs": [],
   "source": []
  }
 ],
 "metadata": {
  "hide_input": false,
  "kernelspec": {
   "display_name": "Python 3 (ipykernel)",
   "language": "python",
   "name": "python3"
  },
  "language_info": {
   "codemirror_mode": {
    "name": "ipython",
    "version": 3
   },
   "file_extension": ".py",
   "mimetype": "text/x-python",
   "name": "python",
   "nbconvert_exporter": "python",
   "pygments_lexer": "ipython3",
   "version": "3.10.9"
  },
  "toc": {
   "base_numbering": 1,
   "nav_menu": {},
   "number_sections": true,
   "sideBar": true,
   "skip_h1_title": false,
   "title_cell": "Table of Contents",
   "title_sidebar": "Contents",
   "toc_cell": false,
   "toc_position": {},
   "toc_section_display": true,
   "toc_window_display": false
  },
  "varInspector": {
   "cols": {
    "lenName": 16,
    "lenType": 16,
    "lenVar": 40
   },
   "kernels_config": {
    "python": {
     "delete_cmd_postfix": "",
     "delete_cmd_prefix": "del ",
     "library": "var_list.py",
     "varRefreshCmd": "print(var_dic_list())"
    },
    "r": {
     "delete_cmd_postfix": ") ",
     "delete_cmd_prefix": "rm(",
     "library": "var_list.r",
     "varRefreshCmd": "cat(var_dic_list()) "
    }
   },
   "types_to_exclude": [
    "module",
    "function",
    "builtin_function_or_method",
    "instance",
    "_Feature"
   ],
   "window_display": false
  }
 },
 "nbformat": 4,
 "nbformat_minor": 4
}
